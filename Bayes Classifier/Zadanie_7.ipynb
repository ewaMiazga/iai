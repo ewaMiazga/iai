{
  "cells": [
    {
      "cell_type": "markdown",
      "metadata": {
        "id": "cpar5LziY_-0"
      },
      "source": [
        "#Zadanie 7 (7 pkt)\n",
        "Celem zadania jest zaimplementowanie dwóch wersji naiwnego klasyfikatora Bayesa. \n",
        "* W pierwszej wersji należy dokonać dyskretyzacji danych - przedział wartości każdego atrybutu dzielimy na cztery równe przedziały i każdej ciągłej wartości atrybutu przypisujemy wartość dyskretną wynikająca z przynależności do danego przedziału.\n",
        "* W drugiej wersji wartości likelihood wyliczamy z rozkładów normalnych o średnich i odchyleniach standardowych wynikających z wartości atrybutów.\n",
        "Trening i test należy przeprowadzić dla zbioru Iris, tak jak w przypadku zadania z drzewem klasyfikacyjnym. Proszę przeprowadzić eksperymenty najpierw dla DOKŁADNIE takiego podziału zbioru testowego i treningowego jak umieszczony poniżej. W dalszej części należy przeprowadzić analizę działania klasyfikatorów dla różnych wartości parametrów. Proszę korzystać z przygotowanego szkieletu programu, oczywiście można go modyfikować według potrzeb. Wszelkie elementy szkieletu zostaną wyjaśnione na zajęciach.\n",
        "\n",
        "* Dyskretyzacja danych - **0.5 pkt** \n",
        "* Implementacja funkcji rozkładu normalnego o zadanej średniej i odchyleniu standardowym. - **0.5 pkt**\n",
        "* Implementacja naiwnego klasyfikatora Bayesa dla danych dyskretnych. - **2.0 pkt**\n",
        "* Implementacja naiwnego klasyfikatora Bayesa dla danych ciągłych. - **2.5 pkt**\n",
        "* Przeprowadzenie eksperymentów, wnioski i sposób ich prezentacji. - **1.5 pkt**"
      ]
    },
    {
      "cell_type": "code",
      "execution_count": 1,
      "metadata": {
        "id": "XNc-O3npA-J9"
      },
      "outputs": [],
      "source": [
        "from sklearn.datasets import load_iris\n",
        "from sklearn.model_selection import train_test_split\n",
        "from sklearn.metrics import accuracy_score\n",
        "import math\n",
        "from collections import Counter\n",
        "import numpy as np\n",
        "\n",
        "from decimal import *\n",
        "\n",
        "iris = load_iris()\n",
        "\n",
        "x = iris.data\n",
        "y = iris.target\n",
        "\n",
        "x_train, x_test, y_train, y_test = train_test_split(x, y, test_size=0.1, random_state=123)"
      ]
    },
    {
      "cell_type": "code",
      "execution_count": 2,
      "metadata": {
        "id": "fBh2tfQ44u5k"
      },
      "outputs": [],
      "source": [
        "from collections import Counter\n",
        "import numpy as np\n",
        "from sklearn.datasets import load_iris\n",
        "from sklearn.model_selection import train_test_split\n",
        "\n",
        "iris = load_iris()\n",
        "\n",
        "x = iris.data\n",
        "y = iris.target\n",
        "\n",
        "\n",
        "x_train, x_test, y_train, y_test = train_test_split(x, y, test_size=0.1, random_state=123)\n",
        "\n",
        "\n",
        "class NaiveBayes:\n",
        "    def __init__(self, x_train, y_train):\n",
        "        self.priors = {}\n",
        "        self.likelihoods = {}\n",
        "        self.intervals = {}\n",
        "\n",
        "        self.num_samples = x_train.shape[0]\n",
        "        self.num_features = x_train.shape[1]\n",
        "\n",
        "        self.classes = set(y_train)\n",
        "\n",
        "        self.train_features = x_train\n",
        "        self.train_classes = y_train\n",
        "\n",
        "    def build_classifier(self):\n",
        "\n",
        "        #calc probability of class appearance in y_train\n",
        "        #calc priors\n",
        "        class_count = Counter(self.train_classes)\n",
        "        for cl in class_count:\n",
        "            self.priors[cl] = class_count[cl] / self.num_samples\n",
        "\n",
        "        #calc likelihoods\n",
        "        self.data_discretization()\n",
        "\n",
        "    @staticmethod\n",
        "    def split_data(feature_values, intervals):\n",
        "        return np.digitize(feature_values, intervals) - 1\n",
        "\n",
        "    def data_discretization(self):\n",
        "        for cl in self.classes:\n",
        "            for feature in range(self.num_features):\n",
        "                feature_values = self.train_features[self.train_classes == cl, feature] #wybór tylko samplów danej klasy\n",
        "                # a następnie wybieranie danego feature\n",
        "                #self.likelihoods[cl, feature] = Counter(self.data_discretization(feature_values, cl, feature))\n",
        "                intervals = np.linspace(0, feature_values.max(), 4)\n",
        "                self.intervals[cl, feature] = intervals\n",
        "                self.likelihoods[cl, feature] = Counter(self.split_data(feature_values, intervals)) #minus jeden aby zwracało klasy 0->3\n",
        "        \n",
        "\n",
        "    def predict(self, sample):\n",
        "        predictions = {}\n",
        "        for cl in self.classes:\n",
        "            likelihood = 1\n",
        "            for feature in range(self.num_features):\n",
        "                feature_values = self.split_data(sample[feature], self.intervals[cl, feature])\n",
        "                likelihood *= self.likelihoods[cl, feature][feature_values] / sum(self.likelihoods[cl, feature].values())\n",
        "            predictions[cl] = likelihood * self.priors[cl]\n",
        "        \n",
        "        max_value = 0\n",
        "        max_key = 0\n",
        "        for key in predictions:\n",
        "            if predictions[key] > max_value:\n",
        "                max_key = key\n",
        "                max_value = predictions[key]\n",
        "        return max_key    \n",
        "\n",
        "\n",
        "class GaussianNaiveBayes:\n",
        "    def __init__(self, x_train, y_train):\n",
        "        self.priors = {}\n",
        "        self.likelihoods = {}\n",
        "\n",
        "        self.num_samples = x_train.shape[0]\n",
        "        self.num_features = x_train.shape[1]\n",
        "\n",
        "        self.classes = set(y_train)\n",
        "\n",
        "        self.train_features = x_train\n",
        "        self.train_classes = y_train\n",
        "\n",
        "    def build_classifier(self):\n",
        "        #calc priors\n",
        "        class_count = Counter(self.train_classes)\n",
        "        for cl in class_count:\n",
        "            self.priors[cl] = class_count[cl] / self.num_samples\n",
        "        \n",
        "        #calc likelihoods\n",
        "        for cl in self.classes:\n",
        "            current_class_rows = [i for i, x in enumerate(self.train_classes) if x == cl]\n",
        "            current_class_features = self.train_features[current_class_rows]\n",
        "\n",
        "            self.likelihoods[cl] = {}\n",
        "            for feature in range(self.num_features):\n",
        "                self.likelihoods[cl][feature] = (current_class_features[:, feature].mean(), current_class_features[:, feature].std())\n",
        "\n",
        "    @staticmethod\n",
        "    def normal_dist(x, mean, std):\n",
        "        exponent = math.exp(-(math.pow(x-mean,2)/(2*math.pow(std,2))))\n",
        "        return (1 / (math.sqrt(2*math.pi) * std)) * exponent\n",
        "\n",
        "    def predict(self, sample):\n",
        "        predictions = {}\n",
        "        for cl in self.classes:\n",
        "            likelihood = 1\n",
        "            for feature in range(self.num_features):\n",
        "                mean, std = self.likelihoods[cl][feature]\n",
        "                likelihood *= self.normal_dist(sample[feature], mean, std)\n",
        "            predictions[cl] = likelihood * self.priors[cl]\n",
        "            \n",
        "        max_value = 0\n",
        "        max_key = 0\n",
        "        for key in predictions:\n",
        "            if predictions[key] > max_value:\n",
        "                max_key = key\n",
        "                max_value = predictions[key]\n",
        "        return max_key\n",
        "\n"
      ]
    },
    {
      "attachments": {},
      "cell_type": "markdown",
      "metadata": {},
      "source": [
        "## NaiveBayes"
      ]
    },
    {
      "cell_type": "code",
      "execution_count": 3,
      "metadata": {},
      "outputs": [
        {
          "name": "stdout",
          "output_type": "stream",
          "text": [
            "[1, 2, 2, 1, 0, 2, 1, 0, 0, 1, 2, 0, 1, 2, 2]\n",
            "[1 2 2 1 0 2 1 0 0 1 2 0 1 2 2]\n",
            "Accuracy:  1.0\n",
            "Errors: 0\n"
          ]
        }
      ],
      "source": [
        "x_train, x_test, y_train, y_test = train_test_split(x, y, test_size=0.1, random_state=123)\n",
        "\n",
        "nb = NaiveBayes(x_train, y_train)\n",
        "nb.build_classifier()\n",
        "y_pred = [nb.predict(x) for x in x_test]\n",
        "\n",
        "acc = accuracy_score(y_test, y_pred)\n",
        "print(y_pred)\n",
        "print(y_test)\n",
        "\n",
        "err = 0\n",
        "for y_p, y_t in zip(y_pred, y_test):\n",
        "    if y_p != y_t:\n",
        "       err += 1\n",
        "print(\"Accuracy: \", acc)\n",
        "print(f'Errors: {err}')"
      ]
    },
    {
      "cell_type": "code",
      "execution_count": 4,
      "metadata": {},
      "outputs": [
        {
          "name": "stdout",
          "output_type": "stream",
          "text": [
            "[1, 2, 2, 1, 0, 2, 1, 0, 0, 1, 2, 0, 1, 2, 2, 2, 0, 0, 1, 0, 0, 2, 0, 2, 0, 0, 0, 2, 2, 0, 2, 1, 0, 0, 1, 1, 2, 0, 0, 1, 1, 0, 2, 2, 2, 2, 2, 1, 0, 0, 2, 0, 0, 1, 1, 1, 1, 2, 1, 2]\n",
            "[1 2 2 1 0 2 1 0 0 1 2 0 1 2 2 2 0 0 1 0 0 2 0 2 0 0 0 2 2 0 2 2 0 0 1 1 2\n",
            " 0 0 1 1 0 2 2 2 2 2 1 0 0 2 0 0 1 1 1 1 2 1 2]\n",
            "Accuracy:  0.9833333333333333\n",
            "Errors: 1\n"
          ]
        }
      ],
      "source": [
        "x_train, x_test, y_train, y_test = train_test_split(x, y, test_size=0.4, random_state=123)\n",
        "\n",
        "nb = NaiveBayes(x_train, y_train)\n",
        "nb.build_classifier()\n",
        "y_pred = [nb.predict(x) for x in x_test]\n",
        "\n",
        "acc = accuracy_score(y_test, y_pred)\n",
        "print(y_pred)\n",
        "print(y_test)\n",
        "\n",
        "err = 0\n",
        "for y_p, y_t in zip(y_pred, y_test):\n",
        "    if y_p != y_t:\n",
        "       err += 1\n",
        "print(\"Accuracy: \", acc)\n",
        "print(f'Errors: {err}')"
      ]
    },
    {
      "cell_type": "code",
      "execution_count": 5,
      "metadata": {},
      "outputs": [
        {
          "name": "stdout",
          "output_type": "stream",
          "text": [
            "[1, 0, 0, 0, 2, 2, 2, 1, 1, 1, 1, 0, 2, 1, 0]\n",
            "[1 0 0 0 2 1 2 1 1 1 1 0 2 1 0]\n",
            "Accuracy:  0.9333333333333333\n",
            "Errors: 1\n"
          ]
        }
      ],
      "source": [
        "x_train, x_test, y_train, y_test = train_test_split(x, y, test_size=0.1, random_state=232)\n",
        "\n",
        "nb = NaiveBayes(x_train, y_train)\n",
        "nb.build_classifier()\n",
        "y_pred = [nb.predict(x) for x in x_test]\n",
        "from sklearn.metrics import accuracy_score\n",
        "acc = accuracy_score(y_test, y_pred)\n",
        "print(y_pred)\n",
        "print(y_test)\n",
        "\n",
        "err = 0\n",
        "for y_p, y_t in zip(y_pred, y_test):\n",
        "    if y_p != y_t:\n",
        "       err += 1\n",
        "print(\"Accuracy: \", acc)\n",
        "print(f'Errors: {err}')"
      ]
    },
    {
      "cell_type": "code",
      "execution_count": 6,
      "metadata": {},
      "outputs": [
        {
          "name": "stdout",
          "output_type": "stream",
          "text": [
            "[1, 0, 0, 0, 2, 2, 2, 1, 1, 1, 1, 0, 2, 1, 0, 2, 2, 1, 2, 1, 2, 1, 1, 1, 1, 2, 1, 1, 1, 0, 2, 2, 2, 0, 2, 0, 0, 0, 0, 2, 2, 2, 2, 0, 2, 1, 2, 1, 0, 1, 0, 0, 0, 0, 0, 2, 1, 0, 2, 0]\n",
            "[1 0 0 0 2 1 2 1 1 1 1 0 2 1 0 2 2 1 2 1 2 1 1 1 1 2 1 1 1 0 2 2 1 0 2 0 0\n",
            " 0 0 2 2 1 2 0 2 1 2 1 0 1 0 0 0 0 0 2 1 0 2 0]\n",
            "Accuracy:  0.95\n",
            "Errors: 3\n"
          ]
        }
      ],
      "source": [
        "x_train, x_test, y_train, y_test = train_test_split(x, y, test_size=0.4, random_state=232)\n",
        "\n",
        "nb = NaiveBayes(x_train, y_train)\n",
        "nb.build_classifier()\n",
        "y_pred = [nb.predict(x) for x in x_test]\n",
        "from sklearn.metrics import accuracy_score\n",
        "acc = accuracy_score(y_test, y_pred)\n",
        "print(y_pred)\n",
        "print(y_test)\n",
        "\n",
        "err = 0\n",
        "for y_p, y_t in zip(y_pred, y_test):\n",
        "    if y_p != y_t:\n",
        "       err += 1\n",
        "print(\"Accuracy: \", acc)\n",
        "print(f'Errors: {err}')"
      ]
    },
    {
      "attachments": {},
      "cell_type": "markdown",
      "metadata": {},
      "source": [
        "## GuassianNaiveBayes"
      ]
    },
    {
      "cell_type": "code",
      "execution_count": 7,
      "metadata": {},
      "outputs": [
        {
          "name": "stdout",
          "output_type": "stream",
          "text": [
            "[1, 2, 2, 1, 0, 2, 1, 0, 0, 1, 2, 0, 1, 2, 2]\n",
            "[1 2 2 1 0 2 1 0 0 1 2 0 1 2 2]\n",
            "Accuracy:  1.0\n",
            "Errors: 0\n"
          ]
        }
      ],
      "source": [
        "x_train, x_test, y_train, y_test = train_test_split(x, y, test_size=0.1, random_state=123)\n",
        "\n",
        "gb = GaussianNaiveBayes(x_train, y_train)\n",
        "gb.build_classifier()\n",
        "y_pred = [gb.predict(x) for x in x_test]\n",
        "\n",
        "acc = accuracy_score(y_test, y_pred)\n",
        "print(y_pred)\n",
        "print(y_test)\n",
        "\n",
        "err = 0\n",
        "for y_p, y_t in zip(y_pred, y_test):\n",
        "    if y_p != y_t:\n",
        "       err += 1\n",
        "print(\"Accuracy: \", acc)\n",
        "print(f'Errors: {err}')"
      ]
    },
    {
      "cell_type": "code",
      "execution_count": 8,
      "metadata": {},
      "outputs": [
        {
          "name": "stdout",
          "output_type": "stream",
          "text": [
            "[1, 2, 2, 1, 0, 2, 1, 0, 0, 1, 2, 0, 1, 2, 2, 2, 0, 0, 1, 0, 0, 1, 0, 2, 0, 0, 0, 2, 2, 0, 2, 1, 0, 0, 1, 1, 2, 0, 0, 1, 1, 0, 2, 2, 2, 2, 2, 1, 0, 0, 2, 0, 0, 1, 1, 1, 1, 2, 1, 2]\n",
            "[1 2 2 1 0 2 1 0 0 1 2 0 1 2 2 2 0 0 1 0 0 2 0 2 0 0 0 2 2 0 2 2 0 0 1 1 2\n",
            " 0 0 1 1 0 2 2 2 2 2 1 0 0 2 0 0 1 1 1 1 2 1 2]\n",
            "Accuracy:  0.9666666666666667\n",
            "Errors: 2\n"
          ]
        }
      ],
      "source": [
        "x_train, x_test, y_train, y_test = train_test_split(x, y, test_size=0.4, random_state=123)\n",
        "\n",
        "gb = GaussianNaiveBayes(x_train, y_train)\n",
        "gb.build_classifier()\n",
        "y_pred = [gb.predict(x) for x in x_test]\n",
        "\n",
        "acc = accuracy_score(y_test, y_pred)\n",
        "print(y_pred)\n",
        "print(y_test)\n",
        "\n",
        "err = 0\n",
        "for y_p, y_t in zip(y_pred, y_test):\n",
        "    if y_p != y_t:\n",
        "       err += 1\n",
        "print(\"Accuracy: \", acc)\n",
        "print(f'Errors: {err}')"
      ]
    },
    {
      "cell_type": "code",
      "execution_count": 9,
      "metadata": {},
      "outputs": [
        {
          "name": "stdout",
          "output_type": "stream",
          "text": [
            "[1, 0, 0, 0, 2, 1, 2, 1, 1, 1, 1, 0, 2, 1, 0]\n",
            "[1 0 0 0 2 1 2 1 1 1 1 0 2 1 0]\n",
            "Accuracy:  1.0\n",
            "Errors: 0\n"
          ]
        }
      ],
      "source": [
        "x_train, x_test, y_train, y_test = train_test_split(x, y, test_size=0.1, random_state=232)\n",
        "gb = GaussianNaiveBayes(x_train, y_train)\n",
        "gb.build_classifier()\n",
        "y_pred = [gb.predict(x) for x in x_test]\n",
        "from sklearn.metrics import accuracy_score\n",
        "acc = accuracy_score(y_test, y_pred)\n",
        "print(y_pred)\n",
        "print(y_test)\n",
        "\n",
        "err = 0\n",
        "for y_p, y_t in zip(y_pred, y_test):\n",
        "    if y_p != y_t:\n",
        "       err += 1\n",
        "print(\"Accuracy: \", acc)\n",
        "print(f'Errors: {err}')"
      ]
    },
    {
      "cell_type": "code",
      "execution_count": 10,
      "metadata": {},
      "outputs": [
        {
          "name": "stdout",
          "output_type": "stream",
          "text": [
            "[1, 0, 0, 0, 2, 2, 2, 2, 1, 1, 1, 0, 2, 1, 0, 2, 2, 1, 2, 1, 2, 1, 1, 1, 1, 2, 1, 1, 1, 0, 2, 2, 2, 0, 2, 0, 0, 0, 0, 2, 2, 2, 2, 0, 2, 1, 2, 1, 0, 1, 0, 0, 0, 0, 0, 2, 1, 0, 2, 0]\n",
            "[1 0 0 0 2 1 2 1 1 1 1 0 2 1 0 2 2 1 2 1 2 1 1 1 1 2 1 1 1 0 2 2 1 0 2 0 0\n",
            " 0 0 2 2 1 2 0 2 1 2 1 0 1 0 0 0 0 0 2 1 0 2 0]\n",
            "Accuracy:  0.9333333333333333\n",
            "Errors: 4\n"
          ]
        }
      ],
      "source": [
        "x_train, x_test, y_train, y_test = train_test_split(x, y, test_size=0.4, random_state=232)\n",
        "gb = GaussianNaiveBayes(x_train, y_train)\n",
        "gb.build_classifier()\n",
        "y_pred = [gb.predict(x) for x in x_test]\n",
        "from sklearn.metrics import accuracy_score\n",
        "acc = accuracy_score(y_test, y_pred)\n",
        "print(y_pred)\n",
        "print(y_test)\n",
        "\n",
        "err = 0\n",
        "for y_p, y_t in zip(y_pred, y_test):\n",
        "    if y_p != y_t:\n",
        "       err += 1\n",
        "print(\"Accuracy: \", acc)\n",
        "print(f'Errors: {err}')"
      ]
    },
    {
      "cell_type": "code",
      "execution_count": 11,
      "metadata": {},
      "outputs": [
        {
          "data": {
            "image/png": "[encoded data removed]",
            "text/plain": [
              "<Figure size 640x480 with 1 Axes>"
            ]
          },
          "metadata": {},
          "output_type": "display_data"
        }
      ],
      "source": [
        "from matplotlib import pyplot as plt\n",
        "iris = load_iris()\n",
        "\n",
        "x = iris.data\n",
        "y = iris.target\n",
        "errs = []\n",
        "for a in np.arange(0.1, 1, 0.1):\n",
        "    x_train, x_test, y_train, y_test = train_test_split(x, y, test_size=a, random_state=185)\n",
        "\n",
        "    dc = NaiveBayes(x_train, y_train)\n",
        "    dc.build_classifier()\n",
        "    errors_count = 0\n",
        "    y_pred = [dc.predict(x) for x in x_test]\n",
        "    for oy_test, oy_pred in zip(y_test, y_pred):\n",
        "        if oy_test != oy_pred:\n",
        "            errors_count += 1\n",
        "    errs.append(errors_count)\n",
        "plt.plot(np.arange(0.1, 1, 0.1), errs)\n",
        "plt.savefig(\"NavieBayes\")"
      ]
    },
    {
      "cell_type": "code",
      "execution_count": 12,
      "metadata": {},
      "outputs": [
        {
          "data": {
            "image/png": "[encoded data removed]",
            "text/plain": [
              "<Figure size 640x480 with 1 Axes>"
            ]
          },
          "metadata": {},
          "output_type": "display_data"
        }
      ],
      "source": [
        "from matplotlib import pyplot as plt\n",
        "iris = load_iris()\n",
        "\n",
        "x = iris.data\n",
        "y = iris.target\n",
        "errs = []\n",
        "for a in np.arange(0.1, 1, 0.1):\n",
        "    x_train, x_test, y_train, y_test = train_test_split(x, y, test_size=a, random_state=185)\n",
        "    dc = GaussianNaiveBayes(x_train, y_train)\n",
        "    dc.build_classifier()\n",
        "    errors_count = 0\n",
        "    y_pred = [dc.predict(x) for x in x_test]\n",
        "    for oy_test, oy_pred in zip(y_test, y_pred):\n",
        "        if oy_test != oy_pred:\n",
        "            errors_count += 1\n",
        "    errs.append(errors_count)\n",
        "plt.plot(np.arange(0.1, 1, 0.1), errs)\n",
        "plt.savefig(\"GaussianNavieBayes\")"
      ]
    },
    {
      "cell_type": "code",
      "execution_count": 13,
      "metadata": {},
      "outputs": [
        {
          "data": {
            "image/png": "[encoded data removed]",
            "text/plain": [
              "<Figure size 640x480 with 1 Axes>"
            ]
          },
          "metadata": {},
          "output_type": "display_data"
        }
      ],
      "source": [
        "from matplotlib import pyplot as plt\n",
        "iris = load_iris()\n",
        "\n",
        "x = iris.data\n",
        "y = iris.target\n",
        "err_nb = []\n",
        "err_dc = []\n",
        "for a in np.arange(0.1, 1, 0.1):\n",
        "    x_train, x_test, y_train, y_test = train_test_split(x, y, test_size=a, random_state=185)\n",
        "\n",
        "    nb = NaiveBayes(x_train, y_train)\n",
        "    nb.build_classifier()\n",
        "\n",
        "    dc = GaussianNaiveBayes(x_train, y_train)\n",
        "    dc.build_classifier()\n",
        "\n",
        "    errors_count_nb = 0\n",
        "    errors_count_dc = 0\n",
        "    y_pred_nb = [nb.predict(x) for x in x_test]\n",
        "    y_pred_dc = [dc.predict(x) for x in x_test]\n",
        "    for oy_test, oy_pred_nb, oy_pred_dc in zip(y_test, y_pred_nb, y_pred_dc):\n",
        "        if oy_test != oy_pred_nb:\n",
        "            errors_count_nb += 1\n",
        "        if oy_test != oy_pred_dc:\n",
        "            errors_count_dc += 1\n",
        "    err_nb.append(errors_count_nb)\n",
        "    err_dc.append(errors_count_dc)\n",
        "plt.plot(np.arange(0.1, 1, 0.1), err_nb)\n",
        "plt.plot(np.arange(0.1, 1, 0.1), err_dc)\n",
        "plt.savefig(\"Comparizon\")"
      ]
    },
    {
      "attachments": {},
      "cell_type": "markdown",
      "metadata": {},
      "source": [
        "# Wnioski\n",
        "* Klasyfikatory choć mają ten sam cel, nie zawsze dobrze operują na podanych danych, jest to zależne od specyfikacji danych na których ma operować.\n",
        "* Naive Bayes zakłada że wszytskie cechy danych są od siebie niezależne, natomiast Gaussian Bayes przyjmuje założenie, że dane mają rozkład normalny.\n",
        "* Zakłada się, że Naive Bayes jest szybszy do wytrenowania i przewidywania.\n",
        "* Zaletą Gaussian Bayes jest pewna precyzja nieosiągalna dla Naive Bayes, w pewnych sytuacjach.\n",
        "* Przy wykonywaniu obliczeń na dużym zbiorze danych, rzuca się w oczy czasochłonność obliczeń, która wynika z konieczności policzenia wartości oczekiwanej oraz odchylenia standardowego.\n",
        "\n",
        "* W operowaniu na zbiorze Iris sprawdził się lepiej Navie Bayes, jest to spowodowane specyfikacją tego konkretnego zbioru, gdzie cechy są od siebie zupełnie niezależne, a dodatkowo cechy nie rozkładają się według rozkładu normalnego."
      ]
    }
  ],
  "metadata": {
    "colab": {
      "provenance": []
    },
    "kernelspec": {
      "display_name": "Python 3",
      "language": "python",
      "name": "python3"
    },
    "language_info": {
      "codemirror_mode": {
        "name": "ipython",
        "version": 3
      },
      "file_extension": ".py",
      "mimetype": "text/x-python",
      "name": "python",
      "nbconvert_exporter": "python",
      "pygments_lexer": "ipython3",
      "version": "3.9.2rc1 (tags/v3.9.2rc1:4064156, Feb 17 2021, 11:25:18) [MSC v.1928 64 bit (AMD64)]"
    },
    "nteract": {
      "version": "nteract-front-end@1.0.0"
    },
    "vscode": {
      "interpreter": {
        "hash": "6a552de0a42a98a523e8f67ee9117f7b13e645144e58150911097f2b178b1554"
      }
    }
  },
  "nbformat": 4,
  "nbformat_minor": 0
}
